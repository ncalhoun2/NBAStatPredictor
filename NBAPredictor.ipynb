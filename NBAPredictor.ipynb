{
  "nbformat": 4,
  "nbformat_minor": 0,
  "metadata": {
    "colab": {
      "provenance": [],
      "toc_visible": true,
      "authorship_tag": "ABX9TyP3zzzAzQsk5XB7UoAvO0we"
    },
    "kernelspec": {
      "name": "python3",
      "display_name": "Python 3"
    },
    "language_info": {
      "name": "python"
    }
  },
  "cells": [
    {
      "cell_type": "code",
      "execution_count": 37,
      "metadata": {
        "colab": {
          "base_uri": "https://localhost:8080/",
          "height": 75
        },
        "id": "b1d9yQsv7gIe",
        "outputId": "9b485ae1-4881-417b-bcb6-11f536241fc8"
      },
      "outputs": [
        {
          "output_type": "execute_result",
          "data": {
            "text/plain": [
              "RandomForestRegressor()"
            ],
            "text/html": [
              "<style>#sk-container-id-6 {color: black;background-color: white;}#sk-container-id-6 pre{padding: 0;}#sk-container-id-6 div.sk-toggleable {background-color: white;}#sk-container-id-6 label.sk-toggleable__label {cursor: pointer;display: block;width: 100%;margin-bottom: 0;padding: 0.3em;box-sizing: border-box;text-align: center;}#sk-container-id-6 label.sk-toggleable__label-arrow:before {content: \"▸\";float: left;margin-right: 0.25em;color: #696969;}#sk-container-id-6 label.sk-toggleable__label-arrow:hover:before {color: black;}#sk-container-id-6 div.sk-estimator:hover label.sk-toggleable__label-arrow:before {color: black;}#sk-container-id-6 div.sk-toggleable__content {max-height: 0;max-width: 0;overflow: hidden;text-align: left;background-color: #f0f8ff;}#sk-container-id-6 div.sk-toggleable__content pre {margin: 0.2em;color: black;border-radius: 0.25em;background-color: #f0f8ff;}#sk-container-id-6 input.sk-toggleable__control:checked~div.sk-toggleable__content {max-height: 200px;max-width: 100%;overflow: auto;}#sk-container-id-6 input.sk-toggleable__control:checked~label.sk-toggleable__label-arrow:before {content: \"▾\";}#sk-container-id-6 div.sk-estimator input.sk-toggleable__control:checked~label.sk-toggleable__label {background-color: #d4ebff;}#sk-container-id-6 div.sk-label input.sk-toggleable__control:checked~label.sk-toggleable__label {background-color: #d4ebff;}#sk-container-id-6 input.sk-hidden--visually {border: 0;clip: rect(1px 1px 1px 1px);clip: rect(1px, 1px, 1px, 1px);height: 1px;margin: -1px;overflow: hidden;padding: 0;position: absolute;width: 1px;}#sk-container-id-6 div.sk-estimator {font-family: monospace;background-color: #f0f8ff;border: 1px dotted black;border-radius: 0.25em;box-sizing: border-box;margin-bottom: 0.5em;}#sk-container-id-6 div.sk-estimator:hover {background-color: #d4ebff;}#sk-container-id-6 div.sk-parallel-item::after {content: \"\";width: 100%;border-bottom: 1px solid gray;flex-grow: 1;}#sk-container-id-6 div.sk-label:hover label.sk-toggleable__label {background-color: #d4ebff;}#sk-container-id-6 div.sk-serial::before {content: \"\";position: absolute;border-left: 1px solid gray;box-sizing: border-box;top: 0;bottom: 0;left: 50%;z-index: 0;}#sk-container-id-6 div.sk-serial {display: flex;flex-direction: column;align-items: center;background-color: white;padding-right: 0.2em;padding-left: 0.2em;position: relative;}#sk-container-id-6 div.sk-item {position: relative;z-index: 1;}#sk-container-id-6 div.sk-parallel {display: flex;align-items: stretch;justify-content: center;background-color: white;position: relative;}#sk-container-id-6 div.sk-item::before, #sk-container-id-6 div.sk-parallel-item::before {content: \"\";position: absolute;border-left: 1px solid gray;box-sizing: border-box;top: 0;bottom: 0;left: 50%;z-index: -1;}#sk-container-id-6 div.sk-parallel-item {display: flex;flex-direction: column;z-index: 1;position: relative;background-color: white;}#sk-container-id-6 div.sk-parallel-item:first-child::after {align-self: flex-end;width: 50%;}#sk-container-id-6 div.sk-parallel-item:last-child::after {align-self: flex-start;width: 50%;}#sk-container-id-6 div.sk-parallel-item:only-child::after {width: 0;}#sk-container-id-6 div.sk-dashed-wrapped {border: 1px dashed gray;margin: 0 0.4em 0.5em 0.4em;box-sizing: border-box;padding-bottom: 0.4em;background-color: white;}#sk-container-id-6 div.sk-label label {font-family: monospace;font-weight: bold;display: inline-block;line-height: 1.2em;}#sk-container-id-6 div.sk-label-container {text-align: center;}#sk-container-id-6 div.sk-container {/* jupyter's `normalize.less` sets `[hidden] { display: none; }` but bootstrap.min.css set `[hidden] { display: none !important; }` so we also need the `!important` here to be able to override the default hidden behavior on the sphinx rendered scikit-learn.org. See: https://github.com/scikit-learn/scikit-learn/issues/21755 */display: inline-block !important;position: relative;}#sk-container-id-6 div.sk-text-repr-fallback {display: none;}</style><div id=\"sk-container-id-6\" class=\"sk-top-container\"><div class=\"sk-text-repr-fallback\"><pre>RandomForestRegressor()</pre><b>In a Jupyter environment, please rerun this cell to show the HTML representation or trust the notebook. <br />On GitHub, the HTML representation is unable to render, please try loading this page with nbviewer.org.</b></div><div class=\"sk-container\" hidden><div class=\"sk-item\"><div class=\"sk-estimator sk-toggleable\"><input class=\"sk-toggleable__control sk-hidden--visually\" id=\"sk-estimator-id-6\" type=\"checkbox\" checked><label for=\"sk-estimator-id-6\" class=\"sk-toggleable__label sk-toggleable__label-arrow\">RandomForestRegressor</label><div class=\"sk-toggleable__content\"><pre>RandomForestRegressor()</pre></div></div></div></div></div>"
            ]
          },
          "metadata": {},
          "execution_count": 37
        }
      ],
      "source": [
        "import pandas as pd\n",
        "from sklearn.ensemble import RandomForestRegressor\n",
        "from sklearn.preprocessing import LabelEncoder\n",
        "\n",
        "\n",
        "# URL of the webpage containing the table\n",
        "url = 'https://www.basketball-reference.com/players/l/lavinza01/gamelog/2024'\n",
        "\n",
        "# Reading tables from the webpage\n",
        "tables_list = pd.read_html(url)\n",
        "\n",
        "# Selecting the desired table\n",
        "table_data = tables_list[7]\n",
        "\n",
        "team_label_encoder = LabelEncoder()\n",
        "def preProcessData(df):\n",
        "  # pre process data\n",
        "  df['Date'] = pd.to_datetime(df['Date']).astype(int) // 10**9\n",
        "  df['Age'] = df['Age'].str.replace('-', '').astype(int)\n",
        "  # Assign encoded labels to the 'Opp' column\n",
        "  df['Tm'] = team_label_encoder.fit_transform(df['Tm'])\n",
        "  df['Opp'] = team_label_encoder.fit_transform(df['Opp'])\n",
        "  # dont need the @ or the L and stuff\n",
        "  df = df.rename(columns={df.columns[5]: 'At'})\n",
        "  df['At'] = df['At'].apply(lambda x: 1 if '@' in str(x) else 0)\n",
        "  df = df.drop(df.columns[7], axis=1)\n",
        "  df['MP'] = df['MP'].astype(str)\n",
        "  df['MP'] = df['MP'].str.replace(':', '').astype(int)\n",
        "\n",
        "  # return processed data\n",
        "  return df\n",
        "\n",
        "table_data = preProcessData(table_data)\n",
        "\n",
        "# Setting the rows we want to predict\n",
        "predictedValues = [ 'FG',\t'FGA'\t, 'FG%',\t'3P', '3PA', '3P%', 'FT', 'FTA', 'FT%', 'ORB','DRB',\n",
        "                   'TRB',\t'AST',\t'STL',\t'BLK',\t'TOV',\t'PF',\t'PTS',\t'GmSc',\t'+/-', 'MP', 'Rk']\n",
        "\n",
        "# Separate features (X) and the target variable (y)\n",
        "X = table_data.drop(predictedValues, axis=1)  # Independant Features\n",
        "\n",
        "y = table_data[predictedValues]  # Target variables to predict\n",
        "\n",
        "# Initialize and train the RandomForestRegressor\n",
        "model = RandomForestRegressor()\n",
        "model.fit(X, y)\n"
      ]
    },
    {
      "cell_type": "code",
      "source": [
        "new_data = {\n",
        "    \"Rk\" : 0,\n",
        "    'G' : 13,\n",
        "    \"Date\": '2023-11-16',\n",
        "    'Age': \"28-251\",\n",
        "    \"Tm\" : \"CHI\",\n",
        "    \"At\": '',\n",
        "    \"Opp\":\"ORL\",\n",
        "    \"GS\": 1,\n",
        "    \"MP\": 2022\n",
        "}\n",
        "\n",
        "def preProcessNewRow(df):\n",
        "  # pre process data\n",
        "  df['Date'] = pd.to_datetime(df['Date']).astype(int) // 10**9\n",
        "  df['Age'] = df['Age'].str.replace('-', '').astype(int)\n",
        "  # Assign encoded labels to the 'Opp' column\n",
        "  df['Tm'] = team_label_encoder.fit_transform(df['Tm'])\n",
        "  df['Opp'] = team_label_encoder.fit_transform(df['Opp'])\n",
        "  # dont need the @ or the L and stuff\n",
        "  df = df.rename(columns={df.columns[5]: 'At'})\n",
        "  df['At'] = df['At'].apply(lambda x: 1 if '@' in str(x) else 0)\n",
        "  #df = df.drop(df.columns[7], axis=1)\n",
        "  df['MP'] = df['MP'].astype(str)\n",
        "  df['MP'] = df['MP'].str.replace(':', '').astype(int)\n",
        "\n",
        "  # pre processed\n",
        "  return df\n",
        "# Convert the new_row_features to a DataFrame for prediction\n",
        "new_row = pd.DataFrame([new_data])\n",
        "# Preprocess the new_row_features for prediction\n",
        "new_row = preProcessNewRow(new_row)\n",
        "\n",
        "new_row = new_row.drop(['MP', 'Rk'], axis=1)\n",
        "\n",
        "predicted_points = model.predict(new_row)\n",
        "\n",
        "cleaned_output = ['{:.2f}'.format(val) for val in predicted_points[0]]\n",
        "\n",
        "for title, number in zip(predictedValues, cleaned_output):\n",
        "    print(f'{title}: {number}')\n",
        "\n"
      ],
      "metadata": {
        "colab": {
          "base_uri": "https://localhost:8080/"
        },
        "id": "tzDGUiEAz7Vs",
        "outputId": "253d01fc-2a8e-4fd9-bdb1-e42839bd124e"
      },
      "execution_count": 40,
      "outputs": [
        {
          "output_type": "stream",
          "name": "stdout",
          "text": [
            "FG: 6.25\n",
            "FGA: 15.69\n",
            "FG%: 0.40\n",
            "3P: 2.04\n",
            "3PA: 6.44\n",
            "3P%: 0.30\n",
            "FT: 4.26\n",
            "FTA: 4.91\n",
            "FT%: 0.84\n",
            "ORB: 0.24\n",
            "DRB: 4.79\n",
            "TRB: 5.03\n",
            "AST: 3.39\n",
            "STL: 1.02\n",
            "BLK: 0.22\n",
            "TOV: 1.80\n",
            "PF: 1.66\n",
            "PTS: 18.80\n",
            "GmSc: 12.74\n",
            "+/-: -2.91\n",
            "MP: 3511.88\n",
            "Rk: 9.38\n"
          ]
        }
      ]
    }
  ]
}