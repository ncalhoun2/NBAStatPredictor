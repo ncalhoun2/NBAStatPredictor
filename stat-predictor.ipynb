{
 "cells": [
  {
   "cell_type": "markdown",
   "metadata": {},
   "source": [
    "# NBA Statistics Predictor\n",
    "\n",
    "## Player List\n",
    "First we will define the year that we will train the model from <br>\n",
    "We will then make a table of players that retired after that year"
   ]
  },
  {
   "cell_type": "code",
   "execution_count": null,
   "metadata": {},
   "outputs": [],
   "source": [
    "# Install dependencies\n",
    "%pip install string\n",
    "%pip install pandas\n",
    "%pip install -U scikit-learn\n",
    "import pickle\n",
    "from sklearn.preprocessing import LabelEncoder\n",
    "import string\n",
    "import pandas as pd\n",
    "import random\n",
    "import time\n",
    "# SET THIS TO THE YEAR TO TRAIN THE MODEL FROM\n",
    "year_from = 2023"
   ]
  },
  {
   "cell_type": "code",
   "execution_count": null,
   "metadata": {},
   "outputs": [],
   "source": [
    "\n",
    "\n",
    "alphabet = string.ascii_lowercase\n",
    "\n",
    "# Initialize an empty list to store player DataFrames\n",
    "all_players = []\n",
    "\n",
    "# Iterate through each letter in the alphabet to fetch player data\n",
    "for letter in alphabet:\n",
    "    random_seconds = random.randint(10, 20)\n",
    "    print(f\"Beginning letter {letter} and sleeping for {random_seconds} seconds\")\n",
    "    time.sleep(random_seconds)\n",
    "    \n",
    "    # Format the URL with the current letter\n",
    "    url = f\"https://www.basketball-reference.com/players/{letter}/\"\n",
    "    players_table = pd.read_html(url)[0]\n",
    "    \n",
    "    # Filter players based on retirement year\n",
    "    players_table['To'] = pd.to_numeric(players_table['To'], errors='coerce')  # Convert 'To' column to numeric\n",
    "    active_players = players_table[players_table['To'] > year_from]\n",
    "    \n",
    "    # Append the filtered DataFrame to the list\n",
    "    all_players.append(active_players)\n",
    "\n",
    "# Concatenate all player DataFrames into a single DataFrame\n",
    "all_players_df = pd.concat(all_players, ignore_index=True)\n",
    "\n",
    "# Save the DataFrame to a CSV file with the correct file name\n",
    "file_name = f'players_list_{year_from}.csv'\n",
    "all_players_df.to_csv(file_name, index=False)\n",
    "\n",
    "print(f\"Data saved to {file_name}\")"
   ]
  },
  {
   "cell_type": "markdown",
   "metadata": {},
   "source": [
    "# Player trainning configuration\n",
    "\n",
    "Whether you are beginning to process the data or picking up where you left off this is all the configuration"
   ]
  },
  {
   "cell_type": "code",
   "execution_count": 6,
   "metadata": {},
   "outputs": [],
   "source": [
    "\n",
    "\n",
    "# import the list of players\n",
    "player_list = pd.read_csv('players_list_2023.csv') #change to correct file\n",
    "\n",
    "num_players = len(player_list)\n",
    "\n",
    "\n",
    "players_table = pd.DataFrame({}) # change to correct file"
   ]
  },
  {
   "cell_type": "markdown",
   "metadata": {},
   "source": [
    "## Individual Player Data\n",
    "\n",
    "Now there is a csv file in the directory with a list of players that retired after the year selected <br>\n",
    "<br>\n",
    "We will now itterate over each player and create a data frame with their game logs for their carrer <br>\n",
    "The goal is to create a csv file for each all players and the games that they played <br><br>\n",
    "\n",
    "### This block will contain helper functions for processing each player's data\n"
   ]
  },
  {
   "cell_type": "code",
   "execution_count": 7,
   "metadata": {},
   "outputs": [],
   "source": [
    "# returns url that contains data about what years the player played\n",
    "def get_player_years_played_url(row):\n",
    "    player_name = row['Player'].lower().split()\n",
    "    \n",
    "    first_letter_last = player_name[1][0]\n",
    "    unique_id = player_name[1][:5] + player_name[0][:2]\n",
    "    return f\"https://www.basketball-reference.com/players/{first_letter_last}/{unique_id}01.html\"\n",
    "\n",
    "# returns an array of the years that the player played in the NBA\n",
    "def get_player_years_played(player_url):\n",
    "    time.sleep(random.randint(3, 8))\n",
    "    tables = pd.read_html(player_url)\n",
    "    player_seasons = tables[1] #7 for player\n",
    "\n",
    "    player_years_played = []\n",
    "    # for each row of seasons\n",
    "    for index, row in player_seasons.iterrows():\n",
    "        season = row['Season']\n",
    "        if season != \"Career\":\n",
    "            season_year = int(season[:2] + season[-2:])\n",
    "            if int(season_year) >= year_from:\n",
    "                player_years_played.append(season_year)\n",
    "        else:\n",
    "            break\n",
    "    return player_years_played"
   ]
  },
  {
   "cell_type": "markdown",
   "metadata": {},
   "source": [
    "## Main function for pre-processing all the player stats\n",
    "It is run for every table that the player has, it adds necessary rows and fills them with values it also cleans up values that are not numbers\n",
    "<br>\n",
    "It also hadles giving text data a numerical value\n"
   ]
  },
  {
   "cell_type": "code",
   "execution_count": 22,
   "metadata": {},
   "outputs": [],
   "source": [
    "def process_player_career(player_url, years_played, player_name):\n",
    "    player_data = pd.DataFrame()\n",
    "    for year in years_played:\n",
    "        print(f\"processing row {year}\")\n",
    "        year_url = f\"{player_url[:-5]}/gamelog/{year}\"\n",
    "        time.sleep(random.randint(3, 5))\n",
    "        tables = pd.read_html(year_url)\n",
    "        player_year_data = tables[7]\n",
    "        # add additional rows\n",
    "        player_year_data['Name'] = player_name * len(player_year_data)\n",
    "        player_year_data['Injured'] = 0 * len(player_year_data)\n",
    "        # remove unnecessary rows\n",
    "        del player_year_data['Rk']\n",
    "        del player_year_data['G']\n",
    "        # add name to row\n",
    "        player_year_data['Home/Away'] = player_year_data.iloc[:, 3]\n",
    "        # add zeros where necessary\n",
    "        replace_dict = {\"Did Not Dress\": 0, \"Did Not Play\": 0, \"Inactive\": 0}\n",
    "        player_year_data = player_year_data.fillna(0)\n",
    "        player_year_data = player_year_data.replace(replace_dict)\n",
    "        for index, row in player_year_data.iterrows():\n",
    "            row['Date'] = int(row['Date'].replace(\"-\",\"\"))\n",
    "            row['Age'] = int(row['Age'].replace(\"-\",\"\"))\n",
    "            row['MP'] = int(row['MP'].replace(\":\",\"\"))\n",
    "            if(row['MP'] == 0):\n",
    "                row['Injured'] = 1\n",
    "            if(row['Home/Away'] == \"@\"):\n",
    "                row['Home/Away'] = 1\n",
    "            else:\n",
    "                row['Home/Away'] = 0\n",
    "            row['Name'] = player_name\n",
    "        players_table = players_table.append(df2, ignore_index=True)\n",
    "        print(players_table)\n",
    "\n",
    "            \n",
    "\n",
    "            \n",
    "\n"
   ]
  },
  {
   "cell_type": "code",
   "execution_count": 23,
   "metadata": {},
   "outputs": [
    {
     "name": "stdout",
     "output_type": "stream",
     "text": [
      "staring to proccess player data for 568 players\n",
      "Player 0 of 568 players\n",
      "Precious Achiuwa\n",
      "processing row 2023\n"
     ]
    },
    {
     "ename": "AttributeError",
     "evalue": "'int' object has no attribute 'replace'",
     "output_type": "error",
     "traceback": [
      "\u001b[0;31m---------------------------------------------------------------------------\u001b[0m",
      "\u001b[0;31mAttributeError\u001b[0m                            Traceback (most recent call last)",
      "\u001b[1;32m/workspace/NBAStatPredictor/stat-predictor.ipynb Cell 10\u001b[0m line \u001b[0;36m1\n\u001b[1;32m      <a href='vscode-notebook-cell://ncalhoun2-nbastatpredic-eyo5fla4pad.ws-us110.gitpod.io/workspace/NBAStatPredictor/stat-predictor.ipynb#X12sdnNjb2RlLXJlbW90ZQ%3D%3D?line=8'>9</a>\u001b[0m years_played \u001b[39m=\u001b[39m get_player_years_played(player_url)\n\u001b[1;32m     <a href='vscode-notebook-cell://ncalhoun2-nbastatpredic-eyo5fla4pad.ws-us110.gitpod.io/workspace/NBAStatPredictor/stat-predictor.ipynb#X12sdnNjb2RlLXJlbW90ZQ%3D%3D?line=9'>10</a>\u001b[0m \u001b[39mprint\u001b[39m(row[\u001b[39m'\u001b[39m\u001b[39mPlayer\u001b[39m\u001b[39m'\u001b[39m])\n\u001b[0;32m---> <a href='vscode-notebook-cell://ncalhoun2-nbastatpredic-eyo5fla4pad.ws-us110.gitpod.io/workspace/NBAStatPredictor/stat-predictor.ipynb#X12sdnNjb2RlLXJlbW90ZQ%3D%3D?line=10'>11</a>\u001b[0m player_table \u001b[39m=\u001b[39m process_player_career(player_url, years_played, row[\u001b[39m'\u001b[39;49m\u001b[39mPlayer\u001b[39;49m\u001b[39m'\u001b[39;49m])\n\u001b[1;32m     <a href='vscode-notebook-cell://ncalhoun2-nbastatpredic-eyo5fla4pad.ws-us110.gitpod.io/workspace/NBAStatPredictor/stat-predictor.ipynb#X12sdnNjb2RlLXJlbW90ZQ%3D%3D?line=13'>14</a>\u001b[0m \u001b[39mprint\u001b[39m(row[\u001b[39m'\u001b[39m\u001b[39mPlayer\u001b[39m\u001b[39m'\u001b[39m])\n\u001b[1;32m     <a href='vscode-notebook-cell://ncalhoun2-nbastatpredic-eyo5fla4pad.ws-us110.gitpod.io/workspace/NBAStatPredictor/stat-predictor.ipynb#X12sdnNjb2RlLXJlbW90ZQ%3D%3D?line=14'>15</a>\u001b[0m \u001b[39mprint\u001b[39m(years_played)\n",
      "\u001b[1;32m/workspace/NBAStatPredictor/stat-predictor.ipynb Cell 10\u001b[0m line \u001b[0;36m2\n\u001b[1;32m     <a href='vscode-notebook-cell://ncalhoun2-nbastatpredic-eyo5fla4pad.ws-us110.gitpod.io/workspace/NBAStatPredictor/stat-predictor.ipynb#X12sdnNjb2RlLXJlbW90ZQ%3D%3D?line=21'>22</a>\u001b[0m row[\u001b[39m'\u001b[39m\u001b[39mDate\u001b[39m\u001b[39m'\u001b[39m] \u001b[39m=\u001b[39m \u001b[39mint\u001b[39m(row[\u001b[39m'\u001b[39m\u001b[39mDate\u001b[39m\u001b[39m'\u001b[39m]\u001b[39m.\u001b[39mreplace(\u001b[39m\"\u001b[39m\u001b[39m-\u001b[39m\u001b[39m\"\u001b[39m,\u001b[39m\"\u001b[39m\u001b[39m\"\u001b[39m))\n\u001b[1;32m     <a href='vscode-notebook-cell://ncalhoun2-nbastatpredic-eyo5fla4pad.ws-us110.gitpod.io/workspace/NBAStatPredictor/stat-predictor.ipynb#X12sdnNjb2RlLXJlbW90ZQ%3D%3D?line=22'>23</a>\u001b[0m row[\u001b[39m'\u001b[39m\u001b[39mAge\u001b[39m\u001b[39m'\u001b[39m] \u001b[39m=\u001b[39m \u001b[39mint\u001b[39m(row[\u001b[39m'\u001b[39m\u001b[39mAge\u001b[39m\u001b[39m'\u001b[39m]\u001b[39m.\u001b[39mreplace(\u001b[39m\"\u001b[39m\u001b[39m-\u001b[39m\u001b[39m\"\u001b[39m,\u001b[39m\"\u001b[39m\u001b[39m\"\u001b[39m))\n\u001b[0;32m---> <a href='vscode-notebook-cell://ncalhoun2-nbastatpredic-eyo5fla4pad.ws-us110.gitpod.io/workspace/NBAStatPredictor/stat-predictor.ipynb#X12sdnNjb2RlLXJlbW90ZQ%3D%3D?line=23'>24</a>\u001b[0m row[\u001b[39m'\u001b[39m\u001b[39mMP\u001b[39m\u001b[39m'\u001b[39m] \u001b[39m=\u001b[39m \u001b[39mint\u001b[39m(row[\u001b[39m'\u001b[39;49m\u001b[39mMP\u001b[39;49m\u001b[39m'\u001b[39;49m]\u001b[39m.\u001b[39;49mreplace(\u001b[39m\"\u001b[39m\u001b[39m:\u001b[39m\u001b[39m\"\u001b[39m,\u001b[39m\"\u001b[39m\u001b[39m\"\u001b[39m))\n\u001b[1;32m     <a href='vscode-notebook-cell://ncalhoun2-nbastatpredic-eyo5fla4pad.ws-us110.gitpod.io/workspace/NBAStatPredictor/stat-predictor.ipynb#X12sdnNjb2RlLXJlbW90ZQ%3D%3D?line=24'>25</a>\u001b[0m \u001b[39mif\u001b[39;00m(row[\u001b[39m'\u001b[39m\u001b[39mMP\u001b[39m\u001b[39m'\u001b[39m] \u001b[39m==\u001b[39m \u001b[39m0\u001b[39m):\n\u001b[1;32m     <a href='vscode-notebook-cell://ncalhoun2-nbastatpredic-eyo5fla4pad.ws-us110.gitpod.io/workspace/NBAStatPredictor/stat-predictor.ipynb#X12sdnNjb2RlLXJlbW90ZQ%3D%3D?line=25'>26</a>\u001b[0m     row[\u001b[39m'\u001b[39m\u001b[39mInjured\u001b[39m\u001b[39m'\u001b[39m] \u001b[39m=\u001b[39m \u001b[39m1\u001b[39m\n",
      "\u001b[0;31mAttributeError\u001b[0m: 'int' object has no attribute 'replace'"
     ]
    }
   ],
   "source": [
    "\n",
    "\n",
    "print(f\"staring to proccess player data for {num_players} players\")\n",
    "\n",
    "# itterates over every player\n",
    "for index in range(3): # change this for production\n",
    "    print(f\"Player {index} of {num_players} players\")\n",
    "    # this is the player\n",
    "    row = player_list.iloc[index]\n",
    "    player_url = get_player_years_played_url(row)\n",
    "    years_played = get_player_years_played(player_url)\n",
    "    print(row['Player'])\n",
    "    player_table = process_player_career(player_url, years_played, row['Player'])\n",
    "\n",
    "\n",
    "    print(row['Player'])\n",
    "    print(years_played)\n",
    "\n",
    "\"\"\"\n",
    "player_df = player_df.drop(['Rk', 'G'], axis=1)\n",
    "player_df.rename(columns={'Unnamed: 7': 'PtDiff', 'Unnamed: 5': 'Home/Away',}, inplace=True)\n",
    "\n",
    "\n",
    "for index, row in df.iterrows():\n",
    "    print(f\"Index: {index}\")\n",
    "    print(f\"Name: {row['Name']}, Age: {row['Age']}, City: {row['City']}\")\n",
    "    print()  # Add a blank line for readability\n",
    "\n",
    "print(player_df.columns)\n",
    "\"\"\"\n"
   ]
  }
 ],
 "metadata": {
  "kernelspec": {
   "display_name": "Python 3",
   "language": "python",
   "name": "python3"
  },
  "language_info": {
   "codemirror_mode": {
    "name": "ipython",
    "version": 3
   },
   "file_extension": ".py",
   "mimetype": "text/x-python",
   "name": "python",
   "nbconvert_exporter": "python",
   "pygments_lexer": "ipython3",
   "version": "3.12.2"
  }
 },
 "nbformat": 4,
 "nbformat_minor": 2
}
