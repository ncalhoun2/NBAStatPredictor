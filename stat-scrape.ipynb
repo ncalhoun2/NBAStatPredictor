{
 "cells": [
  {
   "cell_type": "markdown",
   "metadata": {},
   "source": [
    "# NBA Statistics Predictor (2)\n",
    "<span style=\"color: red;\"><em>Do not run this is the file \"player_stats.csv exists\".</em></span>\n",
    "\n",
    "## Scraping the each players stats\n",
    "### From the list of names we will get each players stats"
   ]
  },
  {
   "cell_type": "code",
   "execution_count": 1,
   "metadata": {},
   "outputs": [
    {
     "name": "stdout",
     "output_type": "stream",
     "text": [
      "\u001b[31mERROR: Could not find a version that satisfies the requirement string (from versions: none)\u001b[0m\u001b[31m\n",
      "\u001b[0m\u001b[31mERROR: No matching distribution found for string\u001b[0m\u001b[31m\n",
      "\u001b[0mNote: you may need to restart the kernel to use updated packages.\n",
      "Requirement already satisfied: pandas in /home/codespace/.local/lib/python3.12/site-packages (2.2.2)\n",
      "Requirement already satisfied: numpy>=1.26.0 in /home/codespace/.local/lib/python3.12/site-packages (from pandas) (2.0.1)\n",
      "Requirement already satisfied: python-dateutil>=2.8.2 in /home/codespace/.local/lib/python3.12/site-packages (from pandas) (2.9.0.post0)\n",
      "Requirement already satisfied: pytz>=2020.1 in /home/codespace/.local/lib/python3.12/site-packages (from pandas) (2024.1)\n",
      "Requirement already satisfied: tzdata>=2022.7 in /home/codespace/.local/lib/python3.12/site-packages (from pandas) (2024.1)\n",
      "Requirement already satisfied: six>=1.5 in /home/codespace/.local/lib/python3.12/site-packages (from python-dateutil>=2.8.2->pandas) (1.16.0)\n",
      "Note: you may need to restart the kernel to use updated packages.\n",
      "Requirement already satisfied: scikit-learn in /home/codespace/.local/lib/python3.12/site-packages (1.5.1)\n",
      "Requirement already satisfied: numpy>=1.19.5 in /home/codespace/.local/lib/python3.12/site-packages (from scikit-learn) (2.0.1)\n",
      "Requirement already satisfied: scipy>=1.6.0 in /home/codespace/.local/lib/python3.12/site-packages (from scikit-learn) (1.14.0)\n",
      "Requirement already satisfied: joblib>=1.2.0 in /home/codespace/.local/lib/python3.12/site-packages (from scikit-learn) (1.4.2)\n",
      "Requirement already satisfied: threadpoolctl>=3.1.0 in /home/codespace/.local/lib/python3.12/site-packages (from scikit-learn) (3.5.0)\n",
      "Note: you may need to restart the kernel to use updated packages.\n",
      "Requirement already satisfied: lxml in /usr/local/python/3.12.1/lib/python3.12/site-packages (5.3.0)\n",
      "Note: you may need to restart the kernel to use updated packages.\n",
      "Requirement already satisfied: html5lib in /usr/local/python/3.12.1/lib/python3.12/site-packages (1.1)\n",
      "Requirement already satisfied: six>=1.9 in /home/codespace/.local/lib/python3.12/site-packages (from html5lib) (1.16.0)\n",
      "Requirement already satisfied: webencodings in /home/codespace/.local/lib/python3.12/site-packages (from html5lib) (0.5.1)\n",
      "Note: you may need to restart the kernel to use updated packages.\n"
     ]
    }
   ],
   "source": [
    "# Install dependencies\n",
    "%pip install string\n",
    "%pip install pandas\n",
    "%pip install -U scikit-learn\n",
    "%pip install lxml\n",
    "%pip install html5lib\n",
    "import os\n",
    "import pandas as pd\n",
    "import random\n",
    "import time\n",
    "# SET THIS TO THE YEAR TO TRAIN THE MODEL FROM\n",
    "year_from = 2023"
   ]
  },
  {
   "cell_type": "code",
   "execution_count": 2,
   "metadata": {},
   "outputs": [],
   "source": [
    "# import the list of players\n",
    "player_list = pd.read_csv('players_list.csv')\n",
    "\n",
    "num_players = len(player_list)\n"
   ]
  },
  {
   "cell_type": "markdown",
   "metadata": {},
   "source": [
    "## Individual Player Data\n",
    "\n",
    "Now there is a csv file in the directory with a list of players that retired after the year selected <br>\n",
    "<br>\n",
    "We will now itterate over each player and create a data frame with their game logs for their carrer <br>\n",
    "The goal is to create a csv file for each all players and the games that they played <br><br>\n",
    "\n",
    "### This block will contain helper functions for processing each player's data\n"
   ]
  },
  {
   "cell_type": "code",
   "execution_count": 3,
   "metadata": {},
   "outputs": [],
   "source": [
    "# returns url that contains data about what years the player played\n",
    "def get_gamelog_year_url(row, year):\n",
    "    player_name = row['Player'].lower().split()\n",
    "    \n",
    "    first_letter_last = player_name[1][0]\n",
    "    unique_id = player_name[1][:5] + player_name[0][:2]\n",
    "    return f\"https://www.basketball-reference.com/players/{first_letter_last}/{unique_id}01/gamelog/{year}\"\n",
    "\n",
    "# returns an array of the years that the player played in the NBA\n",
    "def get_player_years_played(player_row):\n",
    "    return list(range(player_row[\"From\"], player_row[\"To\"] + 1))\n",
    "\n",
    "\n",
    "def storePlayerYearData(row, year_played):\n",
    "    url = get_gamelog_year_url(row, year_played)\n",
    "    time.sleep(random.randint(2, 5))\n",
    "    print(url)\n",
    "    tables = pd.read_html(url)\n",
    "    player_year_data = tables[7]\n",
    "    if player_year_data is not None and not player_year_data.empty: # this could be undefined, might have played in the g-league\n",
    "        player_year_data[\"Name\"] = row[\"Player\"]\n",
    "\n",
    "        if os.path.exists('player_stats.csv'):\n",
    "            player_stats = pd.read_csv('player_stats.csv')\n",
    "            player_stats = pd.concat([player_stats, player_year_data], ignore_index=True)\n",
    "            player_stats.to_csv('player_stats.csv', index=False)\n",
    "        else:\n",
    "            player_year_data.to_csv('player_stats.csv', index=False)\n",
    "\n",
    "        "
   ]
  },
  {
   "cell_type": "code",
   "execution_count": 4,
   "metadata": {},
   "outputs": [
    {
     "name": "stdout",
     "output_type": "stream",
     "text": [
      "staring to proccess player data for 572 players\n",
      "Player 0 of 572 players\n",
      "https://www.basketball-reference.com/players/a/achiupr01/gamelog/2021\n",
      "https://www.basketball-reference.com/players/a/achiupr01/gamelog/2022\n",
      "https://www.basketball-reference.com/players/a/achiupr01/gamelog/2023\n",
      "https://www.basketball-reference.com/players/a/achiupr01/gamelog/2024\n",
      "Player 1 of 572 players\n",
      "https://www.basketball-reference.com/players/a/adebaba01/gamelog/2018\n",
      "https://www.basketball-reference.com/players/a/adebaba01/gamelog/2019\n",
      "https://www.basketball-reference.com/players/a/adebaba01/gamelog/2020\n",
      "https://www.basketball-reference.com/players/a/adebaba01/gamelog/2021\n",
      "https://www.basketball-reference.com/players/a/adebaba01/gamelog/2022\n",
      "https://www.basketball-reference.com/players/a/adebaba01/gamelog/2023\n",
      "https://www.basketball-reference.com/players/a/adebaba01/gamelog/2024\n",
      "Player 2 of 572 players\n",
      "https://www.basketball-reference.com/players/a/agbajoc01/gamelog/2023\n",
      "https://www.basketball-reference.com/players/a/agbajoc01/gamelog/2024\n"
     ]
    }
   ],
   "source": [
    "print(f\"staring to proccess player data for {num_players} players\")\n",
    "\n",
    "# itterates over every player\n",
    "for index in num_players - 1 : # change this for production\n",
    "    print(f\"Player {index} of {num_players} players\")\n",
    "    # this is the player\n",
    "    row = player_list.iloc[index]\n",
    "    years_played = get_player_years_played(row)\n",
    "    for year_played in years_played:\n",
    "        storePlayerYearData(row, year_played)"
   ]
  }
 ],
 "metadata": {
  "kernelspec": {
   "display_name": "Python 3",
   "language": "python",
   "name": "python3"
  },
  "language_info": {
   "codemirror_mode": {
    "name": "ipython",
    "version": 3
   },
   "file_extension": ".py",
   "mimetype": "text/x-python",
   "name": "python",
   "nbconvert_exporter": "python",
   "pygments_lexer": "ipython3",
   "version": "3.12.1"
  }
 },
 "nbformat": 4,
 "nbformat_minor": 2
}
