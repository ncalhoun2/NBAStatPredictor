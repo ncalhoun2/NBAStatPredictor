{
 "cells": [
  {
   "cell_type": "markdown",
   "metadata": {},
   "source": [
    "# NBA Statistics Predictor\n",
    "\n",
    "## Scraping the Player List\n",
    "### This file will create a list of player names and store it in the root of the project\n",
    "First we will define the year that we will train the model from <br>\n",
    "We will then make a table of players that retired after that year"
   ]
  },
  {
   "cell_type": "code",
   "execution_count": null,
   "metadata": {},
   "outputs": [],
   "source": [
    "# Install dependencies\n",
    "%pip install string\n",
    "%pip install pandas\n",
    "%pip install -U scikit-learn\n",
    "%pip install lxml\n",
    "import pickle\n",
    "from sklearn.preprocessing import LabelEncoder\n",
    "import string\n",
    "import pandas as pd\n",
    "import random\n",
    "import time\n",
    "# SET THIS TO THE YEAR TO TRAIN THE MODEL FROM\n",
    "year_from = 2023"
   ]
  },
  {
   "cell_type": "code",
   "execution_count": null,
   "metadata": {},
   "outputs": [],
   "source": [
    "\n",
    "\n",
    "alphabet = string.ascii_lowercase\n",
    "\n",
    "# Initialize an empty list to store player DataFrames\n",
    "all_players = []\n",
    "\n",
    "# Iterate through each letter in the alphabet to fetch player data\n",
    "for letter in alphabet:\n",
    "    random_seconds = random.randint(3, 5)\n",
    "    print(f\"Beginning letter {letter} and sleeping for {random_seconds} seconds\")\n",
    "    time.sleep(random_seconds)\n",
    "    \n",
    "    # Format the URL with the current letter\n",
    "    url = f\"https://www.basketball-reference.com/players/{letter}/\"\n",
    "    players_table = pd.read_html(url)[0]\n",
    "    \n",
    "    # Filter players based on retirement year\n",
    "    players_table['To'] = pd.to_numeric(players_table['To'], errors='coerce')  # Convert 'To' column to numeric\n",
    "    active_players = players_table[players_table['To'] > year_from]\n",
    "    \n",
    "    # Append the filtered DataFrame to the list\n",
    "    all_players.append(active_players)\n",
    "\n",
    "# Concatenate all player DataFrames into a single DataFrame\n",
    "all_players_df = pd.concat(all_players, ignore_index=True)\n",
    "\n",
    "# Save the DataFrame to a CSV file\n",
    "file_name = f'players_list.csv'\n",
    "all_players_df.to_csv(file_name, index=False)\n",
    "\n",
    "print(f\"Data saved to {file_name}\")"
   ]
  }
 ],
 "metadata": {
  "kernelspec": {
   "display_name": "Python 3",
   "language": "python",
   "name": "python3"
  },
  "language_info": {
   "codemirror_mode": {
    "name": "ipython",
    "version": 3
   },
   "file_extension": ".py",
   "mimetype": "text/x-python",
   "name": "python",
   "nbconvert_exporter": "python",
   "pygments_lexer": "ipython3",
   "version": "3.12.1"
  }
 },
 "nbformat": 4,
 "nbformat_minor": 2
}
