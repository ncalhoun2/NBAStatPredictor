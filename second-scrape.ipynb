{
 "cells": [
  {
   "cell_type": "markdown",
   "metadata": {},
   "source": [
    "# NBA Statistics Predictor (2)\n",
    "<span style=\"color: red;\"><em>Do not run this is the file \"player_stats.csv exists\".</em></span>\n",
    "\n",
    "## Scraping the each players stats\n",
    "### From the list of names we will get each players stats"
   ]
  },
  {
   "cell_type": "code",
   "execution_count": null,
   "metadata": {},
   "outputs": [],
   "source": [
    "# Install dependencies\n",
    "%pip install string\n",
    "%pip install pandas\n",
    "%pip install -U scikit-learn\n",
    "%pip install lxml\n",
    "%pip install html5lib\n",
    "import os\n",
    "import pickle\n",
    "from sklearn.preprocessing import LabelEncoder\n",
    "import string\n",
    "import pandas as pd\n",
    "import random\n",
    "import time\n",
    "# SET THIS TO THE YEAR TO TRAIN THE MODEL FROM\n",
    "year_from = 2023"
   ]
  },
  {
   "cell_type": "code",
   "execution_count": null,
   "metadata": {},
   "outputs": [],
   "source": [
    "# import the list of players\n",
    "player_list = pd.read_csv('players_list.csv')\n",
    "\n",
    "num_players = len(player_list)\n"
   ]
  },
  {
   "cell_type": "markdown",
   "metadata": {},
   "source": [
    "## Individual Player Data\n",
    "\n",
    "Now there is a csv file in the directory with a list of players that retired after the year selected <br>\n",
    "<br>\n",
    "We will now itterate over each player and create a data frame with their game logs for their carrer <br>\n",
    "The goal is to create a csv file for each all players and the games that they played <br><br>\n",
    "\n",
    "### This block will contain helper functions for processing each player's data\n"
   ]
  },
  {
   "cell_type": "code",
   "execution_count": null,
   "metadata": {},
   "outputs": [],
   "source": [
    "# returns url that contains data about what years the player played\n",
    "def get_gamelog_year_url(row, year):\n",
    "    player_name = row['Player'].lower().split()\n",
    "    \n",
    "    first_letter_last = player_name[1][0]\n",
    "    unique_id = player_name[1][:5] + player_name[0][:2]\n",
    "    return f\"https://www.basketball-reference.com/players/{first_letter_last}/{unique_id}01/gamelog/{year}\"\n",
    "\n",
    "# returns an array of the years that the player played in the NBA\n",
    "def get_player_years_played(player_row):\n",
    "    return list(range(player_row[\"From\"], player_row[\"To\"] + 1))\n",
    "\n",
    "\n",
    "def storePlayerYearData(row, year_played):\n",
    "    url = get_gamelog_year_url(row, year_played)\n",
    "    time.sleep(random.randint(2, 5))\n",
    "    print(url)\n",
    "    tables = pd.read_html(url)\n",
    "    player_year_data = tables[7]\n",
    "    if player_year_data is not None and not player_year_data.empty: # this could be undefined, might have played in the g-league\n",
    "        player_year_data[\"Name\"] = row[\"Player\"]\n",
    "\n",
    "        if os.path.exists('player_stats.csv'):\n",
    "            player_stats = pd.read_csv('player_stats.csv')\n",
    "            player_stats = pd.concat([player_stats, player_year_data], ignore_index=True)\n",
    "            player_stats.to_csv('player_stats.csv', index=False)\n",
    "        else:\n",
    "            player_year_data.to_csv('player_stats.csv', index=False)\n",
    "\n",
    "        "
   ]
  },
  {
   "cell_type": "code",
   "execution_count": null,
   "metadata": {},
   "outputs": [],
   "source": [
    "print(f\"staring to proccess player data for {num_players} players\")\n",
    "\n",
    "# itterates over every player\n",
    "for index in range(3): # change this for production\n",
    "    print(f\"Player {index} of {num_players} players\")\n",
    "    # this is the player\n",
    "    row = player_list.iloc[index]\n",
    "    years_played = get_player_years_played(row)\n",
    "    for year_played in years_played:\n",
    "        storePlayerYearData(row, year_played)"
   ]
  }
 ],
 "metadata": {
  "kernelspec": {
   "display_name": "Python 3",
   "language": "python",
   "name": "python3"
  },
  "language_info": {
   "codemirror_mode": {
    "name": "ipython",
    "version": 3
   },
   "file_extension": ".py",
   "mimetype": "text/x-python",
   "name": "python",
   "nbconvert_exporter": "python",
   "pygments_lexer": "ipython3",
   "version": "3.12.1"
  }
 },
 "nbformat": 4,
 "nbformat_minor": 2
}
