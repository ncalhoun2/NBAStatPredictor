{
 "cells": [
  {
   "cell_type": "markdown",
   "metadata": {},
   "source": [
    "<span style=\"color: red;\"><i>Only run this if the file \"player_stats.csv\" exists.</i></span>\n",
    "\n",
    "# Continue Scraping\n",
    "### This file should be run when you want to pickup where you left off scraping"
   ]
  },
  {
   "cell_type": "code",
   "execution_count": null,
   "metadata": {},
   "outputs": [],
   "source": [
    "# Dependencies\n",
    "%pip install pandas\n",
    "%pip install -U scikit-learn\n",
    "%pip install lxml\n",
    "%pip install html5lib\n",
    "import os\n",
    "import pickle\n",
    "from sklearn.preprocessing import LabelEncoder\n",
    "import string\n",
    "import pandas as pd\n",
    "import random\n",
    "import time"
   ]
  },
  {
   "cell_type": "code",
   "execution_count": null,
   "metadata": {},
   "outputs": [],
   "source": [
    "# figure what player and what year we left off at\n",
    "player_list = pd.read_csv('players_list.csv')\n",
    "num_players = len(player_list)\n",
    "player_stats = pd.read_csv('player_stats.csv')\n",
    "last_row = player_stats.tail(1)\n",
    "last_player_name = last_row[\"Name\"]\n",
    "last_player_year = last_row[\"Date\"].values[0][:4]\n",
    "print(last_player_name, last_player_year)"
   ]
  },
  {
   "cell_type": "code",
   "execution_count": null,
   "metadata": {},
   "outputs": [],
   "source": [
    "# get player from list of players see if we got all of his years\n",
    "last_player_row = player_list.loc[player_list['Player'] == last_player_name]\n",
    "player_index = last_player_row.index[0]\n",
    "player_last_year = last_player_row[\"To\"].values[0]\n",
    "# if this is true start from next player\n",
    "player_recorded = last_player_year == player_last_year + 1"
   ]
  },
  {
   "cell_type": "markdown",
   "metadata": {},
   "source": [
    "### Helper Functions"
   ]
  },
  {
   "cell_type": "code",
   "execution_count": null,
   "metadata": {},
   "outputs": [],
   "source": [
    "# continue scraping from where left off\n",
    "def get_gamelog_year_url(row, year):\n",
    "    player_name = row['Player'].values[0].lower().split()\n",
    "    \n",
    "    first_letter_last = player_name[1][0]\n",
    "    unique_id = player_name[1][:5] + player_name[0][:2]\n",
    "    return f\"https://www.basketball-reference.com/players/{first_letter_last}/{unique_id}01/gamelog/{year}\"\n",
    "\n",
    "# returns an array of the years that the player played in the NBA\n",
    "def get_player_years_played(player_row):\n",
    "    return list(range(player_row[\"From\"], player_row[\"To\"] + 1))\n",
    "\n",
    "\n",
    "def storePlayerYearData(row, year_played):\n",
    "    url = get_gamelog_year_url(row, year_played)\n",
    "    time.sleep(random.randint(2, 5))\n",
    "    print(url)\n",
    "    tables = pd.read_html(url)\n",
    "    player_year_data = tables[7]\n",
    "    if player_year_data is not None and not player_year_data.empty: # this could be undefined, might have played in the g-league\n",
    "        player_year_data[\"Name\"] = row[\"Player\"]\n",
    "        player_stats = pd.read_csv('player_stats.csv')\n",
    "        player_stats = pd.concat([player_stats, player_year_data], ignore_index=True)\n",
    "        player_stats.to_csv('player_stats.csv', index=False)\n"
   ]
  },
  {
   "cell_type": "code",
   "execution_count": null,
   "metadata": {},
   "outputs": [],
   "source": [
    "if(player_recorded == False):\n",
    "    # finish up with that player\n",
    "    for year_played in list(range(player_last_year, last_player_row[\"To\"].values[0] + 1)):\n",
    "        storePlayerYearData(last_player_row, year_played)"
   ]
  },
  {
   "cell_type": "code",
   "execution_count": null,
   "metadata": {},
   "outputs": [],
   "source": [
    "print(f\"continuing to proccess player data for {num_players - player_index} players\")\n",
    "# itterates over every player\n",
    "for index in range(3): # change this for production\n",
    "    print(f\"Player {index} of {num_players} players\")\n",
    "    # this is the player\n",
    "    row = player_list.iloc[index]\n",
    "    years_played = get_player_years_played(row)\n",
    "    for year_played in years_played:\n",
    "        storePlayerYearData(row, year_played)"
   ]
  }
 ],
 "metadata": {
  "kernelspec": {
   "display_name": "Python 3",
   "language": "python",
   "name": "python3"
  },
  "language_info": {
   "codemirror_mode": {
    "name": "ipython",
    "version": 3
   },
   "file_extension": ".py",
   "mimetype": "text/x-python",
   "name": "python",
   "nbconvert_exporter": "python",
   "pygments_lexer": "ipython3",
   "version": "3.12.1"
  }
 },
 "nbformat": 4,
 "nbformat_minor": 2
}
