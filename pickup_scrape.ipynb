{
 "cells": [
  {
   "cell_type": "markdown",
   "metadata": {},
   "source": [
    "<span style=\"color: red;\"><i>Only run this if the file \"player_stats.csv\" exists.</i></span>\n",
    "\n",
    "# Continue Scraping\n",
    "### This file should be run when you want to pickup where you left off scraping"
   ]
  },
  {
   "cell_type": "code",
   "execution_count": 8,
   "metadata": {},
   "outputs": [
    {
     "name": "stdout",
     "output_type": "stream",
     "text": [
      "Requirement already satisfied: pandas in /home/codespace/.local/lib/python3.12/site-packages (2.2.2)\n",
      "Requirement already satisfied: numpy>=1.26.0 in /home/codespace/.local/lib/python3.12/site-packages (from pandas) (2.0.1)\n",
      "Requirement already satisfied: python-dateutil>=2.8.2 in /home/codespace/.local/lib/python3.12/site-packages (from pandas) (2.9.0.post0)\n",
      "Requirement already satisfied: pytz>=2020.1 in /home/codespace/.local/lib/python3.12/site-packages (from pandas) (2024.1)\n",
      "Requirement already satisfied: tzdata>=2022.7 in /home/codespace/.local/lib/python3.12/site-packages (from pandas) (2024.1)\n",
      "Requirement already satisfied: six>=1.5 in /home/codespace/.local/lib/python3.12/site-packages (from python-dateutil>=2.8.2->pandas) (1.16.0)\n",
      "Note: you may need to restart the kernel to use updated packages.\n",
      "Requirement already satisfied: scikit-learn in /home/codespace/.local/lib/python3.12/site-packages (1.5.1)\n",
      "Requirement already satisfied: numpy>=1.19.5 in /home/codespace/.local/lib/python3.12/site-packages (from scikit-learn) (2.0.1)\n",
      "Requirement already satisfied: scipy>=1.6.0 in /home/codespace/.local/lib/python3.12/site-packages (from scikit-learn) (1.14.0)\n",
      "Requirement already satisfied: joblib>=1.2.0 in /home/codespace/.local/lib/python3.12/site-packages (from scikit-learn) (1.4.2)\n",
      "Requirement already satisfied: threadpoolctl>=3.1.0 in /home/codespace/.local/lib/python3.12/site-packages (from scikit-learn) (3.5.0)\n",
      "Note: you may need to restart the kernel to use updated packages.\n",
      "Requirement already satisfied: lxml in /home/codespace/.python/current/lib/python3.12/site-packages (5.3.0)\n",
      "Note: you may need to restart the kernel to use updated packages.\n",
      "Requirement already satisfied: html5lib in /home/codespace/.python/current/lib/python3.12/site-packages (1.1)\n",
      "Requirement already satisfied: six>=1.9 in /home/codespace/.local/lib/python3.12/site-packages (from html5lib) (1.16.0)\n",
      "Requirement already satisfied: webencodings in /home/codespace/.local/lib/python3.12/site-packages (from html5lib) (0.5.1)\n",
      "Note: you may need to restart the kernel to use updated packages.\n"
     ]
    }
   ],
   "source": [
    "# Dependencies\n",
    "%pip install pandas\n",
    "%pip install -U scikit-learn\n",
    "%pip install lxml\n",
    "%pip install html5lib\n",
    "from sklearn.preprocessing import LabelEncoder\n",
    "import pandas as pd\n",
    "import random\n",
    "import time\n",
    "from IPython.display import clear_output"
   ]
  },
  {
   "cell_type": "code",
   "execution_count": 9,
   "metadata": {},
   "outputs": [
    {
     "name": "stdout",
     "output_type": "stream",
     "text": [
      "Cody Zeller 2024         Rk   G        Date     Age   Tm Unnamed: 5  Opp Unnamed: 7 GS    MP  \\\n",
      "200649  82  43  2024-04-14  31-192  NOP        NaN  LAL    L (-16)  0  4:21   \n",
      "\n",
      "        ... TRB AST STL BLK TOV PF PTS  GmSc +/-         Name  \n",
      "200649  ...   0   1   0   0   1  1   0  -0.7  -2  Cody Zeller  \n",
      "\n",
      "[1 rows x 31 columns]\n"
     ]
    }
   ],
   "source": [
    "# figure what player and what year we left off at\n",
    "player_list = pd.read_csv('players_list.csv')\n",
    "num_players = len(player_list)\n",
    "player_stats = pd.read_csv('player_stats.csv')\n",
    "last_row = player_stats.tail(1)\n",
    "last_player_name = last_row[\"Name\"].values[0]\n",
    "last_player_year = int(last_row[\"Date\"].values[0][:4])\n",
    "print(last_player_name, last_player_year, last_row)"
   ]
  },
  {
   "cell_type": "code",
   "execution_count": 10,
   "metadata": {},
   "outputs": [],
   "source": [
    "# get player from list of players see if we got all of his years\n",
    "last_player_row = player_list.loc[player_list['Player'] == last_player_name]\n",
    "player_index = last_player_row.index[0]\n",
    "player_last_year = last_player_row[\"To\"].values[0]\n",
    "# if this is true start from next player\n",
    "player_recorded = last_player_year == player_last_year"
   ]
  },
  {
   "cell_type": "markdown",
   "metadata": {},
   "source": [
    "### Helper Functions"
   ]
  },
  {
   "cell_type": "code",
   "execution_count": 11,
   "metadata": {},
   "outputs": [],
   "source": [
    "# continue scraping from where left off\n",
    "def get_gamelog_year_url(row, year):\n",
    "    player_name = row['Player'].lower().split()\n",
    "    \n",
    "    first_letter_last = player_name[1][0]\n",
    "    unique_id = player_name[1][:5] + player_name[0][:2]\n",
    "    return f\"https://www.basketball-reference.com/players/{first_letter_last}/{unique_id}01/gamelog/{year}\"\n",
    "\n",
    "# returns an array of the years that the player played in the NBA\n",
    "def get_player_years_played(player_row):\n",
    "    return list(range(player_row[\"From\"], player_row[\"To\"] + 1))\n",
    "\n",
    "\n",
    "def storePlayerYearData(row, year_played):\n",
    "    url = get_gamelog_year_url(row, year_played)\n",
    "    time.sleep(random.randint(2, 5))\n",
    "    print(url)\n",
    "    tables = None\n",
    "    player_year_data = None\n",
    "    try: \n",
    "        tables = pd.read_html(url)\n",
    "        player_year_data = tables[7]\n",
    "    except:\n",
    "        print (\"Some Error Occured\")\n",
    "\n",
    "    if player_year_data is not None and not player_year_data.empty: # this could be undefined, might have played in the g-league\n",
    "        player_year_data[\"Name\"] = row[\"Player\"]\n",
    "        player_stats = pd.read_csv('player_stats.csv', low_memory=False)\n",
    "        player_stats = pd.concat([player_stats, player_year_data], ignore_index=True)\n",
    "        player_stats.to_csv('player_stats.csv', index=False)\n"
   ]
  },
  {
   "cell_type": "code",
   "execution_count": 12,
   "metadata": {},
   "outputs": [],
   "source": [
    "if(player_recorded == False):\n",
    "    # finish up with that player\n",
    "    print(last_player_year, last_player_row[\"To\"].values[0] + 1)\n",
    "    for year_played in list(range(last_player_year + 1, last_player_row[\"To\"].values[0] + 1)):\n",
    "        storePlayerYearData(last_player_row.squeeze(), year_played)"
   ]
  },
  {
   "cell_type": "code",
   "execution_count": 13,
   "metadata": {},
   "outputs": [
    {
     "name": "stdout",
     "output_type": "stream",
     "text": [
      "continuing to proccess player data for 2 players\n"
     ]
    }
   ],
   "source": [
    "print(f\"continuing to proccess player data for {num_players - player_index} players\")\n",
    "# itterates over every player\n",
    "for index in range(player_index + 1, num_players - 1): # change this for production\n",
    "    print(f\"Player {index} of {num_players} players\")\n",
    "    # this is the player\n",
    "    row = player_list.iloc[index]\n",
    "    years_played = get_player_years_played(row)\n",
    "    for year_played in years_played:\n",
    "        print(f\"Year {year_played}\")\n",
    "        storePlayerYearData(row, year_played)\n",
    "    clear_output(wait=True)"
   ]
  }
 ],
 "metadata": {
  "kernelspec": {
   "display_name": "Python 3",
   "language": "python",
   "name": "python3"
  },
  "language_info": {
   "codemirror_mode": {
    "name": "ipython",
    "version": 3
   },
   "file_extension": ".py",
   "mimetype": "text/x-python",
   "name": "python",
   "nbconvert_exporter": "python",
   "pygments_lexer": "ipython3",
   "version": "3.12.1"
  }
 },
 "nbformat": 4,
 "nbformat_minor": 2
}
