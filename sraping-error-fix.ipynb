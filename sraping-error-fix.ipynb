{
 "cells": [
  {
   "cell_type": "markdown",
   "metadata": {},
   "source": [
    "## In case the id cant be read"
   ]
  },
  {
   "cell_type": "code",
   "execution_count": null,
   "metadata": {},
   "outputs": [],
   "source": [
    "# Dependencies\n",
    "%pip install pandas\n",
    "%pip install -U scikit-learn\n",
    "%pip install lxml\n",
    "%pip install html5lib\n",
    "from sklearn.preprocessing import LabelEncoder\n",
    "import pandas as pd\n",
    "import random\n",
    "import time"
   ]
  },
  {
   "cell_type": "code",
   "execution_count": 4,
   "metadata": {},
   "outputs": [
    {
     "name": "stdout",
     "output_type": "stream",
     "text": [
      "Year 2015\n",
      "https://www.basketball-reference.com/players/c/capelca01/gamelog/2015\n",
      "Year 2016\n",
      "https://www.basketball-reference.com/players/c/capelca01/gamelog/2016\n",
      "Year 2017\n",
      "https://www.basketball-reference.com/players/c/capelca01/gamelog/2017\n",
      "Year 2018\n",
      "https://www.basketball-reference.com/players/c/capelca01/gamelog/2018\n",
      "Year 2019\n",
      "https://www.basketball-reference.com/players/c/capelca01/gamelog/2019\n",
      "Year 2020\n",
      "https://www.basketball-reference.com/players/c/capelca01/gamelog/2020\n",
      "Year 2021\n",
      "https://www.basketball-reference.com/players/c/capelca01/gamelog/2021\n"
     ]
    },
    {
     "name": "stderr",
     "output_type": "stream",
     "text": [
      "/tmp/ipykernel_8364/4164292297.py:24: DtypeWarning: Columns (0,1) have mixed types. Specify dtype option on import or set low_memory=False.\n",
      "  player_stats = pd.read_csv('player_stats.csv')\n"
     ]
    },
    {
     "name": "stdout",
     "output_type": "stream",
     "text": [
      "Year 2022\n",
      "https://www.basketball-reference.com/players/c/capelca01/gamelog/2022\n",
      "Year 2023\n",
      "https://www.basketball-reference.com/players/c/capelca01/gamelog/2023\n"
     ]
    }
   ],
   "source": [
    "MANUAL_ID = \"capelca\" # enter the manual id here\n",
    "first_letter = f\"c\"\n",
    "full_name = \"Clint Capela\"\n",
    "began = 2015\n",
    "end = 2024 # always leave this to 2025 or 2024 depending\n",
    "\n",
    "\n",
    "years_played = list(range(began, end))\n",
    "for year_played in years_played:\n",
    "    print(f\"Year {year_played}\")\n",
    "    #storePlayerYearData(row, year_played)\n",
    "    time.sleep(random.randint(2, 5))\n",
    "    url = f\"https://www.basketball-reference.com/players/{first_letter}/{MANUAL_ID}01/gamelog/{year_played}\"\n",
    "    print(url)\n",
    "    player_year_data = None\n",
    "    try: \n",
    "        tables = pd.read_html(url)\n",
    "        player_year_data = tables[7]\n",
    "    except:\n",
    "        print (\"Some Error Occured\")\n",
    "\n",
    "    if player_year_data is not None and not player_year_data.empty: # this could be undefined, might have played in the g-league\n",
    "        player_year_data[\"Name\"] = full_name\n",
    "        player_stats = pd.read_csv('player_stats.csv', low_memory=False)\n",
    "        player_stats = pd.concat([player_stats, player_year_data], ignore_index=True)\n",
    "        player_stats.to_csv('player_stats.csv', index=False)"
   ]
  }
 ],
 "metadata": {
  "kernelspec": {
   "display_name": "Python 3",
   "language": "python",
   "name": "python3"
  },
  "language_info": {
   "codemirror_mode": {
    "name": "ipython",
    "version": 3
   },
   "file_extension": ".py",
   "mimetype": "text/x-python",
   "name": "python",
   "nbconvert_exporter": "python",
   "pygments_lexer": "ipython3",
   "version": "3.12.1"
  }
 },
 "nbformat": 4,
 "nbformat_minor": 2
}
